{
 "cells": [
  {
   "cell_type": "code",
   "execution_count": 45,
   "metadata": {},
   "outputs": [
    {
     "name": "stdout",
     "output_type": "stream",
     "text": [
      "        Unnamed: 0  Unnamed: 1  Unnamed: 2  Unnamed: 3  Unnamed: 4  \\\n",
      "0              200          14           0          14         100   \n",
      "1              200          14           0          14         100   \n",
      "2              200          14           0          14         100   \n",
      "3              200          14           0          14         100   \n",
      "4              200          14           0          14         100   \n",
      "...            ...         ...         ...         ...         ...   \n",
      "177655         200       24100           0          15         100   \n",
      "177656         200       24100           0          15         100   \n",
      "177657         200       24100           0          15         100   \n",
      "177658         200       24100           0          15         100   \n",
      "177659         200       24100           0          15         100   \n",
      "\n",
      "        Unnamed: 5  Unnamed: 6  Unnamed: 7  Unnamed: 8           model  \n",
      "0              191           0           0           0  WDC WD5000LPVX  \n",
      "1              191           0           0           0  WDC WD5000LPVX  \n",
      "2              191           0           0           0  WDC WD5000LPVX  \n",
      "3              191           0           0           0  WDC WD5000LPVX  \n",
      "4              191           0           0           0  WDC WD5000LPVX  \n",
      "...            ...         ...         ...         ...             ...  \n",
      "177655          40           0           0           0  WDC WD5000LPVX  \n",
      "177656          40           0           0           0  WDC WD5000LPVX  \n",
      "177657          40           0           0           0  WDC WD5000LPVX  \n",
      "177658          40           0           0           0  WDC WD5000LPVX  \n",
      "177659          40           0           0           0  WDC WD5000LPVX  \n",
      "\n",
      "[134232 rows x 10 columns]\n"
     ]
    }
   ],
   "source": [
    "import pandas as ps\n",
    "\n",
    "\n",
    " \n",
    "def loadDataSetByModel(fileName,model):\n",
    "    dataSet = ps.read_csv(fileName)\n",
    "    data = dataSet.loc[dataSet['model'] == model]\n",
    "    return data     \n",
    "\n",
    "\n",
    "\n",
    "\n",
    "\n",
    "data = ps.read_csv('test_failure_disks_with_model.csv')\n",
    "\n",
    "model = data['model'][0]\n",
    "\n",
    "\n",
    "\n",
    "\n",
    "\n",
    "x = loadDataSetByModel('health_disks_with_model.csv',model)\n",
    "print(x)\n",
    "\n",
    "\n"
   ]
  },
  {
   "cell_type": "code",
   "execution_count": 31,
   "metadata": {},
   "outputs": [
    {
     "ename": "IndentationError",
     "evalue": "unexpected indent (<ipython-input-31-86c8518c4fc2>, line 2)",
     "output_type": "error",
     "traceback": [
      "\u001b[0;36m  File \u001b[0;32m\"<ipython-input-31-86c8518c4fc2>\"\u001b[0;36m, line \u001b[0;32m2\u001b[0m\n\u001b[0;31m    for i in range(len(dataSet)):\u001b[0m\n\u001b[0m    ^\u001b[0m\n\u001b[0;31mIndentationError\u001b[0m\u001b[0;31m:\u001b[0m unexpected indent\n"
     ]
    }
   ],
   "source": [
    "\n",
    "\n"
   ]
  },
  {
   "cell_type": "code",
   "execution_count": null,
   "metadata": {},
   "outputs": [],
   "source": [
    "\n"
   ]
  }
 ],
 "metadata": {
  "kernelspec": {
   "display_name": "Python 3",
   "language": "python",
   "name": "python3"
  },
  "language_info": {
   "codemirror_mode": {
    "name": "ipython",
    "version": 3
   },
   "file_extension": ".py",
   "mimetype": "text/x-python",
   "name": "python",
   "nbconvert_exporter": "python",
   "pygments_lexer": "ipython3",
   "version": "3.6.10"
  }
 },
 "nbformat": 4,
 "nbformat_minor": 4
}
